{
 "cells": [
  {
   "cell_type": "markdown",
   "metadata": {},
   "source": [
    "# Simple feed forward network"
   ]
  },
  {
   "cell_type": "code",
   "execution_count": 2,
   "metadata": {},
   "outputs": [
    {
     "name": "stderr",
     "output_type": "stream",
     "text": [
      "c:\\Users\\sruth\\anaconda3\\envs\\recons\\lib\\site-packages\\scipy\\__init__.py:155: UserWarning: A NumPy version >=1.18.5 and <1.25.0 is required for this version of SciPy (detected version 1.26.4\n",
      "  warnings.warn(f\"A NumPy version >={np_minversion} and <{np_maxversion}\"\n"
     ]
    }
   ],
   "source": [
    "import torch\n",
    "import torch.nn as nn\n",
    "import torch.optim as optim\n",
    "import numpy as np\n",
    "import pandas as pd\n",
    "from sklearn.model_selection import train_test_split\n",
    "from sklearn.preprocessing import StandardScaler\n",
    "from sklearn.preprocessing import MinMaxScaler\n",
    "from torch.optim.lr_scheduler import ExponentialLR\n",
    "from torch.optim import Adam\n",
    "import torch.nn.functional as F\n",
    "from torch.utils.data import Dataset, DataLoader"
   ]
  },
  {
   "cell_type": "code",
   "execution_count": 3,
   "metadata": {},
   "outputs": [],
   "source": [
    "filtered_data = pd.read_csv('source_events_50.csv')\n",
    "\n",
    "\n",
    "# Step 1: Add additional features (sin(Theta), cos(Theta), distance between planes)\n",
    "def add_new_features(df):\n",
    "    df['sin_Theta'] = np.sin(df['Theta'])\n",
    "    df['cos_Theta'] = np.cos(df['Theta'])\n",
    "    df['distance'] = np.sqrt((df['Scatter_X'] - df['Absorb_X'])**2 + (df['Scatter_Y'] - df['Absorb_Y'])**2)\n",
    "    df = df.drop(columns=['Theta'])  # Drop Theta if not needed\n",
    "    return df"
   ]
  },
  {
   "cell_type": "markdown",
   "metadata": {},
   "source": []
  },
  {
   "cell_type": "code",
   "execution_count": 4,
   "metadata": {},
   "outputs": [],
   "source": [
    "filtered_data = add_new_features(filtered_data)\n",
    "\n",
    "# Step 2: Prepare the data for training\n",
    "X = filtered_data[['Scatter_X', 'Scatter_Y', 'Absorb_X', 'Absorb_Y', 'sin_Theta', 'cos_Theta', 'distance']]\n",
    "y = filtered_data[['Source_X', 'Source_Y']]\n",
    "\n",
    "# Split data into training and test sets\n",
    "X_train, X_test, y_train, y_test = train_test_split(X, y, test_size=0.2, random_state=42)\n",
    "\n",
    "# Normalize the feature data\n",
    "scaler = MinMaxScaler()\n",
    "X_train = scaler.fit_transform(X_train)\n",
    "X_test = scaler.transform(X_test)\n",
    "\n",
    "# Convert data to PyTorch tensors\n",
    "X_train = torch.tensor(X_train, dtype=torch.float32)\n",
    "X_test = torch.tensor(X_test, dtype=torch.float32)\n",
    "y_train = torch.tensor(np.array(y_train), dtype=torch.float32)\n",
    "y_test = torch.tensor(np.array(y_test), dtype=torch.float32)"
   ]
  },
  {
   "cell_type": "code",
   "execution_count": 7,
   "metadata": {},
   "outputs": [],
   "source": [
    "class GammaRayModel(nn.Module):\n",
    "    def __init__(self, input_dim):\n",
    "        super(GammaRayModel, self).__init__()\n",
    "        self.network = nn.Sequential(\n",
    "            nn.Linear(input_dim, 128),\n",
    "            nn.ReLU(),\n",
    "            nn.Linear(128, 64),\n",
    "            nn.ReLU(),\n",
    "            nn.Linear(64, 32),\n",
    "            nn.ReLU(),\n",
    "            nn.Linear(32, 2)  # Output layer with 2 neurons\n",
    "        )\n",
    "    \n",
    "    def forward(self, x):\n",
    "        return self.network(x)\n",
    "    \n",
    "# Function to create the model, optimizer, and loss function\n",
    "def create_gamma_ray_model(input_dim, learning_rate=0.001):\n",
    "    model = GammaRayModel(input_dim)\n",
    "    optimizer = optim.Adam(model.parameters(), lr=learning_rate)\n",
    "    criterion = nn.MSELoss()\n",
    "    return model, optimizer, criterion\n",
    "\n"
   ]
  },
  {
   "cell_type": "code",
   "execution_count": 5,
   "metadata": {},
   "outputs": [
    {
     "data": {
      "text/plain": [
       "7"
      ]
     },
     "execution_count": 5,
     "metadata": {},
     "output_type": "execute_result"
    }
   ],
   "source": [
    "X_train.shape[1]"
   ]
  },
  {
   "cell_type": "code",
   "execution_count": 8,
   "metadata": {},
   "outputs": [],
   "source": [
    "input_dim = X_train.shape[1]\n",
    "model, optimizer, criterion = create_gamma_ray_model(input_dim)"
   ]
  },
  {
   "cell_type": "code",
   "execution_count": 16,
   "metadata": {},
   "outputs": [
    {
     "name": "stdout",
     "output_type": "stream",
     "text": [
      "Epoch [10/500], Loss: 129.1371, R^2: 0.0017\n",
      "Epoch [20/500], Loss: 129.1334, R^2: 0.0017\n",
      "Epoch [30/500], Loss: 129.1297, R^2: 0.0017\n",
      "Epoch [40/500], Loss: 129.1286, R^2: 0.0018\n",
      "Epoch [50/500], Loss: 129.1232, R^2: 0.0018\n",
      "Epoch [60/500], Loss: 129.1186, R^2: 0.0018\n",
      "Epoch [70/500], Loss: 129.1159, R^2: 0.0019\n",
      "Epoch [80/500], Loss: 129.1127, R^2: 0.0019\n",
      "Epoch [90/500], Loss: 129.1126, R^2: 0.0019\n",
      "Epoch [100/500], Loss: 129.1075, R^2: 0.0019\n",
      "Epoch [110/500], Loss: 129.1030, R^2: 0.0020\n",
      "Epoch [120/500], Loss: 129.0999, R^2: 0.0020\n",
      "Epoch [130/500], Loss: 129.0966, R^2: 0.0020\n",
      "Epoch [140/500], Loss: 129.0982, R^2: 0.0020\n",
      "Epoch [150/500], Loss: 129.0925, R^2: 0.0020\n",
      "Epoch [160/500], Loss: 129.0889, R^2: 0.0021\n",
      "Epoch [170/500], Loss: 129.0856, R^2: 0.0021\n",
      "Epoch [180/500], Loss: 129.0823, R^2: 0.0021\n",
      "Epoch [190/500], Loss: 129.0799, R^2: 0.0021\n",
      "Epoch [200/500], Loss: 129.0774, R^2: 0.0021\n",
      "Epoch [210/500], Loss: 129.0792, R^2: 0.0021\n",
      "Epoch [220/500], Loss: 129.0737, R^2: 0.0022\n",
      "Epoch [230/500], Loss: 129.0698, R^2: 0.0022\n",
      "Epoch [240/500], Loss: 129.0668, R^2: 0.0022\n",
      "Epoch [250/500], Loss: 129.0652, R^2: 0.0022\n",
      "Epoch [260/500], Loss: 129.0632, R^2: 0.0023\n",
      "Epoch [270/500], Loss: 129.0603, R^2: 0.0023\n",
      "Epoch [280/500], Loss: 129.0569, R^2: 0.0023\n",
      "Epoch [290/500], Loss: 129.0540, R^2: 0.0023\n",
      "Epoch [300/500], Loss: 129.0521, R^2: 0.0023\n",
      "Epoch [310/500], Loss: 129.0546, R^2: 0.0023\n",
      "Epoch [320/500], Loss: 129.0493, R^2: 0.0024\n",
      "Epoch [330/500], Loss: 129.0455, R^2: 0.0024\n",
      "Epoch [340/500], Loss: 129.0423, R^2: 0.0024\n",
      "Epoch [350/500], Loss: 129.0414, R^2: 0.0024\n",
      "Epoch [360/500], Loss: 129.0385, R^2: 0.0024\n",
      "Epoch [370/500], Loss: 129.0361, R^2: 0.0025\n",
      "Epoch [380/500], Loss: 129.0412, R^2: 0.0024\n",
      "Epoch [390/500], Loss: 129.0352, R^2: 0.0025\n",
      "Epoch [400/500], Loss: 129.0312, R^2: 0.0025\n",
      "Epoch [410/500], Loss: 129.0289, R^2: 0.0025\n",
      "Epoch [420/500], Loss: 129.0259, R^2: 0.0025\n",
      "Epoch [430/500], Loss: 129.0242, R^2: 0.0026\n",
      "Epoch [440/500], Loss: 129.0215, R^2: 0.0026\n",
      "Epoch [450/500], Loss: 129.0239, R^2: 0.0026\n",
      "Epoch [460/500], Loss: 129.0179, R^2: 0.0026\n",
      "Epoch [470/500], Loss: 129.0154, R^2: 0.0026\n",
      "Epoch [480/500], Loss: 129.0135, R^2: 0.0026\n",
      "Epoch [490/500], Loss: 129.0120, R^2: 0.0027\n",
      "Epoch [500/500], Loss: 129.0103, R^2: 0.0027\n"
     ]
    }
   ],
   "source": [
    "# Set the model to training mode\n",
    "model.train()\n",
    "\n",
    "\n",
    "epochs = 500\n",
    "\n",
    "for epoch in range(epochs):\n",
    "    optimizer.zero_grad()\n",
    "    outputs = model(X_train)\n",
    "    loss = criterion(outputs, y_train)\n",
    "    loss.backward()\n",
    "    optimizer.step()\n",
    "    train_r2 = r2_score(y_train, outputs)\n",
    "    if (epoch+1) % 10 == 0:\n",
    "        print(f'Epoch [{epoch+1}/{epochs}], Loss: {loss.item():.4f}, R^2: {train_r2:.4f}')"
   ]
  },
  {
   "cell_type": "code",
   "execution_count": 17,
   "metadata": {},
   "outputs": [
    {
     "name": "stdout",
     "output_type": "stream",
     "text": [
      "Test Loss: 129.1389, Test R^2: -0.0025\n"
     ]
    }
   ],
   "source": [
    "#write test code here\n",
    "model.eval()\n",
    "with torch.no_grad():\n",
    "    y_pred = model(X_test)\n",
    "    test_loss = criterion(y_pred, y_test)\n",
    "    test_r2 = r2_score(y_test, y_pred)\n",
    "    print(f'Test Loss: {test_loss.item():.4f}, Test R^2: {test_r2:.4f}')"
   ]
  },
  {
   "cell_type": "code",
   "execution_count": 19,
   "metadata": {},
   "outputs": [
    {
     "data": {
      "image/png": "[encoded data removed]",
      "text/plain": [
       "<Figure size 640x480 with 1 Axes>"
      ]
     },
     "metadata": {},
     "output_type": "display_data"
    }
   ],
   "source": [
    "# plot the results\n",
    "import matplotlib.pyplot as plt\n",
    "plt.scatter(y_test[:, 0], y_pred[:, 0], label='X', color='r')\n",
    "plt.scatter(y_test[:, 1], y_pred[:, 1], label='Y', color='b')\n",
    "plt.xlabel('True')\n",
    "plt.ylabel('Predicted')\n",
    "plt.legend()\n",
    "plt.show()\n"
   ]
  }
 ],
 "metadata": {
  "kernelspec": {
   "display_name": "recons",
   "language": "python",
   "name": "python3"
  },
  "language_info": {
   "codemirror_mode": {
    "name": "ipython",
    "version": 3
   },
   "file_extension": ".py",
   "mimetype": "text/x-python",
   "name": "python",
   "nbconvert_exporter": "python",
   "pygments_lexer": "ipython3",
   "version": "3.9.19"
  }
 },
 "nbformat": 4,
 "nbformat_minor": 2
}
