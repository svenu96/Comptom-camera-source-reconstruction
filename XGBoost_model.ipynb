{
 "cells": [
  {
   "cell_type": "markdown",
   "metadata": {},
   "source": [
    "# XGBoost model"
   ]
  },
  {
   "cell_type": "code",
   "execution_count": 6,
   "metadata": {},
   "outputs": [],
   "source": [
    "import torch\n",
    "import torch.nn as nn\n",
    "import torch.optim as optim\n",
    "import numpy as np\n",
    "import pandas as pd\n",
    "from sklearn.model_selection import train_test_split\n",
    "from sklearn.preprocessing import StandardScaler\n",
    "from sklearn.preprocessing import MinMaxScaler\n",
    "\n",
    "filtered_data = pd.read_csv('source_events_50.csv')\n",
    "# Step 1: Add additional features (sin(Theta), cos(Theta), distance between planes)\n",
    "def add_new_features(df):\n",
    "    df['sin_Theta'] = np.sin(df['Theta'])\n",
    "    df['cos_Theta'] = np.cos(df['Theta'])\n",
    "    df['distance'] = np.sqrt((df['Scatter_X'] - df['Absorb_X'])**2 + (df['Scatter_Y'] - df['Absorb_Y'])**2)\n",
    "    #df = df.drop(columns=['Theta'])  # Drop Theta if not needed\n",
    "    return df\n",
    "filtered_data = add_new_features(filtered_data)\n",
    "# Step 2: Prepare the data for training\n",
    "X = filtered_data[['Scatter_X', 'Scatter_Y', 'Absorb_X', 'Absorb_Y', 'Theta', 'Energy', 'sin_Theta', 'cos_Theta', 'distance']]\n",
    "y = filtered_data[['Source_X', 'Source_Y']]\n",
    "# Split data into training and test sets\n",
    "X_train, X_test, y_train, y_test = train_test_split(X, y, test_size=0.2, random_state=42)\n",
    "\n",
    "# Normalize the feature data\n",
    "scaler = MinMaxScaler()\n",
    "X_train = scaler.fit_transform(X_train)\n",
    "X_test = scaler.transform(X_test)\n",
    "\n",
    "# Convert data to PyTorch tensors\n",
    "X_train = torch.tensor(X_train, dtype=torch.float32)\n",
    "X_test = torch.tensor(X_test, dtype=torch.float32)\n",
    "y_train = torch.tensor(np.array(y_train), dtype=torch.float32)\n",
    "y_test = torch.tensor(np.array(y_test), dtype=torch.float32)\n"
   ]
  },
  {
   "cell_type": "code",
   "execution_count": 13,
   "metadata": {},
   "outputs": [
    {
     "name": "stdout",
     "output_type": "stream",
     "text": [
      "mean r2 score: -0.055 (0.005)\n",
      "R2 score: -0.051\n",
      "Mean Squared Error: 135.360\n"
     ]
    }
   ],
   "source": [
    "#perform xgboost regression on the data\n",
    "from xgboost import XGBRegressor\n",
    "from sklearn.metrics import mean_squared_error\n",
    "from sklearn.metrics import mean_absolute_error\n",
    "from sklearn.metrics import r2_score\n",
    "from sklearn.model_selection import cross_val_score\n",
    "from sklearn.model_selection import KFold\n",
    "from sklearn.model_selection import RandomizedSearchCV\n",
    "\n",
    "\n",
    "# define the model\n",
    "model = XGBRegressor(objective='reg:squarederror')\n",
    "# define the evaluation method\n",
    "cv = KFold(n_splits=10, shuffle=True, random_state=1)\n",
    "# evaluate the model on the dataset\n",
    "n_scores = cross_val_score(model, X_train, y_train, scoring='r2', cv=cv, n_jobs=-1)\n",
    "# report performance\n",
    "print('mean r2 score: %.3f (%.3f)' % (np.mean(n_scores), np.std(n_scores)))\n",
    "#print('r2_score: %.3f' % r2_score(y_test, y_pred))\n",
    "#report r2 score\n",
    "model.fit(X_train, y_train)\n",
    "y_pred = model.predict(X_test)\n",
    "print('R2 score: %.3f' % r2_score(y_test, y_pred))\n",
    "print('Mean Squared Error: %.3f' % mean_squared_error(y_test, y_pred))"
   ]
  },
  {
   "cell_type": "markdown",
   "metadata": {},
   "source": [
    "# XGBoost model with parameters obtained from gridsearch"
   ]
  },
  {
   "cell_type": "code",
   "execution_count": 14,
   "metadata": {},
   "outputs": [
    {
     "name": "stdout",
     "output_type": "stream",
     "text": [
      "mean r2 score: -0.068 (0.007)\n",
      "R2 score: -0.051\n",
      "Mean Squared Error: 135.360\n"
     ]
    }
   ],
   "source": [
    "modelxg = XGBRegressor(\n",
    "    n_estimators=200,\n",
    "    max_depth=4,\n",
    "    learning_rate=0.5,\n",
    "    colsample_bytree=0.8,\n",
    "    subsample=0.8,\n",
    "    min_child_weight=1,\n",
    "    gamma=0.1,\n",
    "    reg_alpha=0.5,\n",
    "    reg_lambda=8,\n",
    "    random_state=42,\n",
    "    n_jobs=-1,\n",
    "    objective='reg:squarederror',\n",
    "    eval_metric=['rmse', 'mae']\n",
    ")\n",
    "\n",
    "cv = KFold(n_splits=10, shuffle=True, random_state=1)\n",
    "# evaluate the model on the dataset\n",
    "n_scores = cross_val_score(modelxg, X_train, y_train, scoring='r2', cv=cv, n_jobs=-1)\n",
    "# report performance\n",
    "print('mean r2 score: %.3f (%.3f)' % (np.mean(n_scores), np.std(n_scores)))\n",
    "#print('r2_score: %.3f' % r2_score(y_test, y_pred))\n",
    "#report r2 score\n",
    "model.fit(X_train, y_train)\n",
    "y_pred = model.predict(X_test)\n",
    "print('R2 score: %.3f' % r2_score(y_test, y_pred))\n",
    "print('Mean Squared Error: %.3f' % mean_squared_error(y_test, y_pred))\n"
   ]
  },
  {
   "cell_type": "markdown",
   "metadata": {},
   "source": [
    "# MultiOutputRegressor model"
   ]
  },
  {
   "cell_type": "code",
   "execution_count": 15,
   "metadata": {},
   "outputs": [
    {
     "name": "stdout",
     "output_type": "stream",
     "text": [
      "Cross-validation R2 scores: [-0.06875081 -0.06823931 -0.06976951]\n",
      "Mean R2 score: -0.06891987808946864\n"
     ]
    }
   ],
   "source": [
    "from sklearn.multioutput import MultiOutputRegressor\n",
    "multi_model = MultiOutputRegressor(model)\n",
    "cv_scores = cross_val_score(multi_model, X_train, y_train, cv=3, scoring='r2')\n",
    "\n",
    "print(f\"Cross-validation R2 scores: {cv_scores}\")\n",
    "print(f\"Mean R2 score: {cv_scores.mean()}\")"
   ]
  }
 ],
 "metadata": {
  "kernelspec": {
   "display_name": "recons",
   "language": "python",
   "name": "python3"
  },
  "language_info": {
   "codemirror_mode": {
    "name": "ipython",
    "version": 3
   },
   "file_extension": ".py",
   "mimetype": "text/x-python",
   "name": "python",
   "nbconvert_exporter": "python",
   "pygments_lexer": "ipython3",
   "version": "3.9.19"
  }
 },
 "nbformat": 4,
 "nbformat_minor": 2
}
